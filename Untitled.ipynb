{
 "cells": [
  {
   "cell_type": "code",
   "execution_count": 1,
   "id": "fa07e9ce-be15-4ac5-b235-d75e5d380c40",
   "metadata": {},
   "outputs": [],
   "source": [
    "list_of_tuples = [(23.0, -7.0),\n",
    "(22.0, -7.0),\n",
    "(21.0, -7.0),\n",
    "                 ]"
   ]
  },
  {
   "cell_type": "code",
   "execution_count": 2,
   "id": "5d52e189-a359-4114-9e3c-d13105125f14",
   "metadata": {},
   "outputs": [],
   "source": [
    "import matplotlib\n",
    "import os"
   ]
  },
  {
   "cell_type": "code",
   "execution_count": 3,
   "id": "d634fd20-44b3-4baa-8446-70f3577804fe",
   "metadata": {},
   "outputs": [],
   "source": [
    "import numpy as np"
   ]
  },
  {
   "cell_type": "code",
   "execution_count": 4,
   "id": "89c015a6-7155-4a11-a386-f981af1773c5",
   "metadata": {},
   "outputs": [],
   "source": [
    "ra_and_dec = np.genfromtxt('/home/andsantos/phd/research_projects/Main-Injector/data/des_footprint.txt',\n",
    "              unpack=False, comments=\"#\")"
   ]
  },
  {
   "cell_type": "code",
   "execution_count": 5,
   "id": "f1ac673d-7a72-4150-9316-2dc5e14918d6",
   "metadata": {},
   "outputs": [],
   "source": [
    "ra = ra_and_dec[:,0]\n",
    "dec = ra_and_dec[:,1]"
   ]
  },
  {
   "cell_type": "code",
   "execution_count": 6,
   "id": "80534623-0c2a-4f5f-b42a-28e1755f31f4",
   "metadata": {},
   "outputs": [
    {
     "name": "stdout",
     "output_type": "stream",
     "text": [
      "23.0 -7.0\n"
     ]
    }
   ],
   "source": [
    "print(ra[0], dec[0])"
   ]
  },
  {
   "cell_type": "code",
   "execution_count": 7,
   "id": "ae8f95dc-b1a2-4974-bf7a-928d8b6215dd",
   "metadata": {},
   "outputs": [
    {
     "name": "stdout",
     "output_type": "stream",
     "text": [
      "<class 'matplotlib.path.Path'>\n"
     ]
    }
   ],
   "source": [
    "print(type(matplotlib.path.Path(list_of_tuples)))"
   ]
  },
  {
   "cell_type": "code",
   "execution_count": 8,
   "id": "273918e4-0558-4c49-a6be-6546ac4c7fce",
   "metadata": {},
   "outputs": [
    {
     "data": {
      "text/plain": [
       "Path(array([[23., -7.],\n",
       "       [22., -7.],\n",
       "       [21., -7.]]), None)"
      ]
     },
     "execution_count": 8,
     "metadata": {},
     "output_type": "execute_result"
    }
   ],
   "source": [
    "matplotlib.path.Path(list_of_tuples)"
   ]
  },
  {
   "cell_type": "code",
   "execution_count": 9,
   "id": "ee418eb5-cec2-4223-b0f2-4095cd3265ae",
   "metadata": {},
   "outputs": [],
   "source": [
    "def get_footprint_RaDec(file: str = \"\"):\n",
    "    if file.startswith('desi'):\n",
    "        file = 'desi_footprint_1.txt'\n",
    "    else:\n",
    "        file = 'des_footprint.txt'\n",
    "    if file == \"\":\n",
    "        file='des_footprint.txt'\n",
    "    gw_data_dir = os.environ[\"DESGW_DATA_DIR\"]\n",
    "    footFile = gw_data_dir+'/des_footprint.txt'\n",
    "    ra_and_dec = np.genfromtxt(footFile, unpack=True, comments=\"#\")\n",
    "    ra = ra_and_dec[:, 0]\n",
    "    dec = ra_and_dec[:,1]\n",
    "\n",
    "    return ra, dec\n",
    "\n",
    "\n",
    "def inside_footprint(ra, dec):\n",
    "    ix = ra > 180\n",
    "    ra[ix] = ra[ix]-360.\n",
    "    footprint = get_footprint()\n",
    "    ix = footprint.contains_points(list(zip(ra, dec)))\n",
    "    return ix\n",
    "\n",
    "\n",
    "def get_footprint():\n",
    "    ra, dec = get_footprint_RaDec()\n",
    "    footprint = des_path(ra, dec)\n",
    "    return footprint\n",
    "\n",
    "\n",
    "def des_path(ra_des, dec_des):\n",
    "    footprint = matplotlib.path.Path(list(zip(ra_des, dec_des)))\n",
    "    return footprint"
   ]
  },
  {
   "cell_type": "code",
   "execution_count": 10,
   "id": "26dac8fe-30ba-4369-935c-d20ddf3fdcf5",
   "metadata": {},
   "outputs": [],
   "source": [
    "ra, dec = get_footprint_RaDec() # Tuple of arrays(ra), array(dec)"
   ]
  },
  {
   "cell_type": "code",
   "execution_count": 11,
   "id": "530ee385-fb04-49d6-b58c-2758009fb094",
   "metadata": {},
   "outputs": [
    {
     "data": {
      "text/plain": [
       "array([23., -7.])"
      ]
     },
     "execution_count": 11,
     "metadata": {},
     "output_type": "execute_result"
    }
   ],
   "source": [
    "ra[:3]"
   ]
  },
  {
   "cell_type": "code",
   "execution_count": 12,
   "id": "6d0e83a1-2893-45ae-9d14-6eddd50c9e6d",
   "metadata": {},
   "outputs": [
    {
     "data": {
      "text/plain": [
       "array([22., -7.])"
      ]
     },
     "execution_count": 12,
     "metadata": {},
     "output_type": "execute_result"
    }
   ],
   "source": [
    "dec[:3]"
   ]
  },
  {
   "cell_type": "code",
   "execution_count": 13,
   "id": "f4c8e6fe-9637-4cae-bf03-eb343fedc61d",
   "metadata": {},
   "outputs": [],
   "source": [
    "desRa, desDec = get_footprint().iter_segments()"
   ]
  },
  {
   "cell_type": "code",
   "execution_count": 14,
   "id": "663854fc-9800-4de3-a3b7-56afcab83e9f",
   "metadata": {},
   "outputs": [
    {
     "data": {
      "text/plain": [
       "array([23., 22.])"
      ]
     },
     "execution_count": 14,
     "metadata": {},
     "output_type": "execute_result"
    }
   ],
   "source": [
    "desRa[0]"
   ]
  },
  {
   "cell_type": "code",
   "execution_count": 15,
   "id": "3c839fc6-04a3-4b8a-ae7e-1caeda045ac8",
   "metadata": {},
   "outputs": [
    {
     "data": {
      "text/plain": [
       "array([-7., -7.])"
      ]
     },
     "execution_count": 15,
     "metadata": {},
     "output_type": "execute_result"
    }
   ],
   "source": [
    "desDec[0]"
   ]
  },
  {
   "cell_type": "code",
   "execution_count": 26,
   "id": "b380d99d-72ed-4694-baa1-4b0442f6b39e",
   "metadata": {},
   "outputs": [
    {
     "data": {
      "text/plain": [
       "'2010-06-03 00:00:00.000'"
      ]
     },
     "execution_count": 26,
     "metadata": {},
     "output_type": "execute_result"
    }
   ],
   "source": [
    "from astropy.time import Time\n",
    "rise_t = Time('55350', scale='tt', format='mjd', out_subfmt='float')\n",
    "#['float', 'long', 'decimal', 'str', 'bytes']\n",
    "rise_t.iso"
   ]
  },
  {
   "cell_type": "code",
   "execution_count": null,
   "id": "6d4fa257-490d-4813-9600-69a7ac7c59c9",
   "metadata": {},
   "outputs": [],
   "source": []
  }
 ],
 "metadata": {
  "kernelspec": {
   "display_name": "Python 3 (ipykernel)",
   "language": "python",
   "name": "python3"
  },
  "language_info": {
   "codemirror_mode": {
    "name": "ipython",
    "version": 3
   },
   "file_extension": ".py",
   "mimetype": "text/x-python",
   "name": "python",
   "nbconvert_exporter": "python",
   "pygments_lexer": "ipython3",
   "version": "3.8.13"
  }
 },
 "nbformat": 4,
 "nbformat_minor": 5
}
