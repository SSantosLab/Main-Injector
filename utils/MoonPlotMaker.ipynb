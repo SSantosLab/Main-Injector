{
 "cells": [
  {
   "cell_type": "code",
   "execution_count": 1,
   "metadata": {},
   "outputs": [],
   "source": [
    "import sys\n",
    "sys.path.append(\"/data/des70.a/data/desgw/O4/Main-Injector-O4b/\")\n",
    "import handlers.short_latency_plots as slp\n",
    "import numpy as np\n",
    "import astropy.units as u"
   ]
  },
  {
   "cell_type": "code",
   "execution_count": 10,
   "metadata": {},
   "outputs": [
    {
     "name": "stdout",
     "output_type": "stream",
     "text": [
      "2024-12-11 ['2024-12-10 15:00:00.000' '2024-12-10 15:01:26.486'\n",
      " '2024-12-10 15:02:52.973' ... '2024-12-11 14:57:07.027'\n",
      " '2024-12-11 14:58:33.514' '2024-12-11 15:00:00.000']\n"
     ]
    },
    {
     "name": "stdout",
     "output_type": "stream",
     "text": [
      "2024-12-12 ['2024-12-11 15:00:00.000' '2024-12-11 15:01:26.486'\n",
      " '2024-12-11 15:02:52.973' ... '2024-12-12 14:57:07.027'\n",
      " '2024-12-12 14:58:33.514' '2024-12-12 15:00:00.000']\n",
      "2024-12-13 ['2024-12-12 15:00:00.000' '2024-12-12 15:01:26.486'\n",
      " '2024-12-12 15:02:52.973' ... '2024-12-13 14:57:07.027'\n",
      " '2024-12-13 14:58:33.514' '2024-12-13 15:00:00.000']\n",
      "2024-12-14 ['2024-12-13 15:00:00.000' '2024-12-13 15:01:26.486'\n",
      " '2024-12-13 15:02:52.973' ... '2024-12-14 14:57:07.027'\n",
      " '2024-12-14 14:58:33.514' '2024-12-14 15:00:00.000']\n",
      "2024-12-15 ['2024-12-14 15:00:00.000' '2024-12-14 15:01:26.486'\n",
      " '2024-12-14 15:02:52.973' ... '2024-12-15 14:57:07.027'\n",
      " '2024-12-15 14:58:33.514' '2024-12-15 15:00:00.000']\n",
      "2024-12-16 ['2024-12-15 15:00:00.000' '2024-12-15 15:01:26.486'\n",
      " '2024-12-15 15:02:52.973' ... '2024-12-16 14:57:07.027'\n",
      " '2024-12-16 14:58:33.514' '2024-12-16 15:00:00.000']\n",
      "2024-12-17 ['2024-12-16 15:00:00.000' '2024-12-16 15:01:26.486'\n",
      " '2024-12-16 15:02:52.973' ... '2024-12-17 14:57:07.027'\n",
      " '2024-12-17 14:58:33.514' '2024-12-17 15:00:00.000']\n",
      "2024-12-18 ['2024-12-17 15:00:00.000' '2024-12-17 15:01:26.486'\n",
      " '2024-12-17 15:02:52.973' ... '2024-12-18 14:57:07.027'\n",
      " '2024-12-18 14:58:33.514' '2024-12-18 15:00:00.000']\n",
      "2024-12-19 ['2024-12-18 15:00:00.000' '2024-12-18 15:01:26.486'\n",
      " '2024-12-18 15:02:52.973' ... '2024-12-19 14:57:07.027'\n",
      " '2024-12-19 14:58:33.514' '2024-12-19 15:00:00.000']\n",
      "2024-12-20 ['2024-12-19 15:00:00.000' '2024-12-19 15:01:26.486'\n",
      " '2024-12-19 15:02:52.973' ... '2024-12-20 14:57:07.027'\n",
      " '2024-12-20 14:58:33.514' '2024-12-20 15:00:00.000']\n",
      "2024-12-21 ['2024-12-20 15:00:00.000' '2024-12-20 15:01:26.486'\n",
      " '2024-12-20 15:02:52.973' ... '2024-12-21 14:57:07.027'\n",
      " '2024-12-21 14:58:33.514' '2024-12-21 15:00:00.000']\n",
      "2024-12-22 ['2024-12-21 15:00:00.000' '2024-12-21 15:01:26.486'\n",
      " '2024-12-21 15:02:52.973' ... '2024-12-22 14:57:07.027'\n",
      " '2024-12-22 14:58:33.514' '2024-12-22 15:00:00.000']\n",
      "2024-12-23 ['2024-12-22 15:00:00.000' '2024-12-22 15:01:26.486'\n",
      " '2024-12-22 15:02:52.973' ... '2024-12-23 14:57:07.027'\n",
      " '2024-12-23 14:58:33.514' '2024-12-23 15:00:00.000']\n",
      "2024-12-24 ['2024-12-23 15:00:00.000' '2024-12-23 15:01:26.486'\n",
      " '2024-12-23 15:02:52.973' ... '2024-12-24 14:57:07.027'\n",
      " '2024-12-24 14:58:33.514' '2024-12-24 15:00:00.000']\n",
      "2024-12-25 ['2024-12-24 15:00:00.000' '2024-12-24 15:01:26.486'\n",
      " '2024-12-24 15:02:52.973' ... '2024-12-25 14:57:07.027'\n",
      " '2024-12-25 14:58:33.514' '2024-12-25 15:00:00.000']\n",
      "2024-12-26 ['2024-12-25 15:00:00.000' '2024-12-25 15:01:26.486'\n",
      " '2024-12-25 15:02:52.973' ... '2024-12-26 14:57:07.027'\n",
      " '2024-12-26 14:58:33.514' '2024-12-26 15:00:00.000']\n",
      "2024-12-27 ['2024-12-26 15:00:00.000' '2024-12-26 15:01:26.486'\n",
      " '2024-12-26 15:02:52.973' ... '2024-12-27 14:57:07.027'\n",
      " '2024-12-27 14:58:33.514' '2024-12-27 15:00:00.000']\n",
      "2024-12-28 ['2024-12-27 15:00:00.000' '2024-12-27 15:01:26.486'\n",
      " '2024-12-27 15:02:52.973' ... '2024-12-28 14:57:07.027'\n",
      " '2024-12-28 14:58:33.514' '2024-12-28 15:00:00.000']\n",
      "2024-12-29 ['2024-12-28 15:00:00.000' '2024-12-28 15:01:26.486'\n",
      " '2024-12-28 15:02:52.973' ... '2024-12-29 14:57:07.027'\n",
      " '2024-12-29 14:58:33.514' '2024-12-29 15:00:00.000']\n",
      "2024-12-30 ['2024-12-29 15:00:00.000' '2024-12-29 15:01:26.486'\n",
      " '2024-12-29 15:02:52.973' ... '2024-12-30 14:57:07.027'\n",
      " '2024-12-30 14:58:33.514' '2024-12-30 15:00:00.000']\n",
      "2024-12-31 ['2024-12-30 15:00:00.000' '2024-12-30 15:01:26.486'\n",
      " '2024-12-30 15:02:52.973' ... '2024-12-31 14:57:07.027'\n",
      " '2024-12-31 14:58:33.514' '2024-12-31 15:00:00.000']\n"
     ]
    },
    {
     "ename": "ValueError",
     "evalue": "Input values did not match any of the formats where the format keyword is optional: {'datetime': TypeError('Input values for datetime class must be datetime objects'), 'ymdhms': ValueError('input must be dict or table-like'), 'iso': ErfaError('ERFA function \"dtf2d\" yielded 1 of \"bad day\"'), 'isot': ErfaError('ERFA function \"dtf2d\" yielded 1 of \"bad day\"'), 'yday': ValueError('Time 2024-12-32 does not match yday format'), 'datetime64': TypeError('Input values for datetime64 class must be datetime64 objects'), 'fits': ErfaError('ERFA function \"dtf2d\" yielded 1 of \"bad day\"'), 'byear_str': ValueError('Time 2024-12-32 does not match byear_str format'), 'jyear_str': ValueError('Time 2024-12-32 does not match jyear_str format'), 'astropy_time': TypeError('Input values for astropy_time class must all be the same astropy Time type.')}",
     "output_type": "error",
     "traceback": [
      "\u001b[0;31m---------------------------------------------------------------------------\u001b[0m",
      "\u001b[0;31mTypeError\u001b[0m                                 Traceback (most recent call last)",
      "File \u001b[0;32m/data/des80.a/data/imcmahon/micromamba/envs/mi38/lib/python3.9/site-packages/astropy/time/core.py:599\u001b[0m, in \u001b[0;36mTimeBase._get_time_fmt\u001b[0;34m(self, val, val2, format, scale, precision, in_subfmt, out_subfmt)\u001b[0m\n\u001b[1;32m    598\u001b[0m \u001b[38;5;28;01mtry\u001b[39;00m:\n\u001b[0;32m--> 599\u001b[0m     \u001b[38;5;28;01mreturn\u001b[39;00m \u001b[38;5;28;43mcls\u001b[39;49m\u001b[43m(\u001b[49m\u001b[43mval\u001b[49m\u001b[43m,\u001b[49m\u001b[43m \u001b[49m\u001b[43mval2\u001b[49m\u001b[43m,\u001b[49m\u001b[43m \u001b[49m\u001b[43mscale\u001b[49m\u001b[43m,\u001b[49m\u001b[43m \u001b[49m\u001b[43mprecision\u001b[49m\u001b[43m,\u001b[49m\u001b[43m \u001b[49m\u001b[43min_subfmt\u001b[49m\u001b[43m,\u001b[49m\u001b[43m \u001b[49m\u001b[43mout_subfmt\u001b[49m\u001b[43m)\u001b[49m\n\u001b[1;32m    600\u001b[0m \u001b[38;5;28;01mexcept\u001b[39;00m UnitConversionError:\n",
      "File \u001b[0;32m/data/des80.a/data/imcmahon/micromamba/envs/mi38/lib/python3.9/site-packages/astropy/time/formats.py:152\u001b[0m, in \u001b[0;36mTimeFormat.__init__\u001b[0;34m(self, val1, val2, scale, precision, in_subfmt, out_subfmt, from_jd)\u001b[0m\n\u001b[1;32m    151\u001b[0m \u001b[38;5;28;01melse\u001b[39;00m:\n\u001b[0;32m--> 152\u001b[0m     val1, val2 \u001b[38;5;241m=\u001b[39m \u001b[38;5;28;43mself\u001b[39;49m\u001b[38;5;241;43m.\u001b[39;49m\u001b[43m_check_val_type\u001b[49m\u001b[43m(\u001b[49m\u001b[43mval1\u001b[49m\u001b[43m,\u001b[49m\u001b[43m \u001b[49m\u001b[43mval2\u001b[49m\u001b[43m)\u001b[49m\n\u001b[1;32m    153\u001b[0m     \u001b[38;5;28mself\u001b[39m\u001b[38;5;241m.\u001b[39mset_jds(val1, val2)\n",
      "File \u001b[0;32m/data/des80.a/data/imcmahon/micromamba/envs/mi38/lib/python3.9/site-packages/astropy/time/formats.py:1026\u001b[0m, in \u001b[0;36mTimeDatetime._check_val_type\u001b[0;34m(self, val1, val2)\u001b[0m\n\u001b[1;32m   1025\u001b[0m \u001b[38;5;28;01mif\u001b[39;00m \u001b[38;5;129;01mnot\u001b[39;00m \u001b[38;5;28mall\u001b[39m(\u001b[38;5;28misinstance\u001b[39m(val, datetime\u001b[38;5;241m.\u001b[39mdatetime) \u001b[38;5;28;01mfor\u001b[39;00m val \u001b[38;5;129;01min\u001b[39;00m val1\u001b[38;5;241m.\u001b[39mflat):\n\u001b[0;32m-> 1026\u001b[0m     \u001b[38;5;28;01mraise\u001b[39;00m \u001b[38;5;167;01mTypeError\u001b[39;00m(\n\u001b[1;32m   1027\u001b[0m         \u001b[38;5;124mf\u001b[39m\u001b[38;5;124m\"\u001b[39m\u001b[38;5;124mInput values for \u001b[39m\u001b[38;5;132;01m{\u001b[39;00m\u001b[38;5;28mself\u001b[39m\u001b[38;5;241m.\u001b[39mname\u001b[38;5;132;01m}\u001b[39;00m\u001b[38;5;124m class must be datetime objects\u001b[39m\u001b[38;5;124m\"\u001b[39m\n\u001b[1;32m   1028\u001b[0m     )\n\u001b[1;32m   1029\u001b[0m \u001b[38;5;28;01mif\u001b[39;00m val2 \u001b[38;5;129;01mis\u001b[39;00m \u001b[38;5;129;01mnot\u001b[39;00m \u001b[38;5;28;01mNone\u001b[39;00m:\n",
      "\u001b[0;31mTypeError\u001b[0m: Input values for datetime class must be datetime objects",
      "\nThe above exception was the direct cause of the following exception:\n",
      "\u001b[0;31mValueError\u001b[0m                                Traceback (most recent call last)",
      "Cell \u001b[0;32mIn[10], line 8\u001b[0m\n\u001b[1;32m      6\u001b[0m \u001b[38;5;28;01mfor\u001b[39;00m day \u001b[38;5;129;01min\u001b[39;00m arr:\n\u001b[1;32m      7\u001b[0m     date \u001b[38;5;241m=\u001b[39m \u001b[38;5;124m\"\u001b[39m\u001b[38;5;124m2024-12-\u001b[39m\u001b[38;5;132;01m{}\u001b[39;00m\u001b[38;5;124m\"\u001b[39m\u001b[38;5;241m.\u001b[39mformat(\u001b[38;5;28mstr\u001b[39m(\u001b[38;5;241m11\u001b[39m\u001b[38;5;241m+\u001b[39mday))\n\u001b[0;32m----> 8\u001b[0m     plot \u001b[38;5;241m=\u001b[39m \u001b[43mslp\u001b[49m\u001b[38;5;241;43m.\u001b[39;49m\u001b[43mmoon_airmass\u001b[49m\u001b[43m(\u001b[49m\u001b[43mfullPath\u001b[49m\u001b[43m,\u001b[49m\u001b[43m \u001b[49m\u001b[43mdate\u001b[49m\u001b[43m,\u001b[49m\u001b[43m \u001b[49m\u001b[43mtarget_coords\u001b[49m\u001b[43m)\u001b[49m\n\u001b[1;32m      9\u001b[0m     \u001b[38;5;66;03m# plot.show()\u001b[39;00m\n",
      "File \u001b[0;32m/data/des70.a/data/desgw/O4/Main-Injector-O4b/handlers/short_latency_plots.py:97\u001b[0m, in \u001b[0;36mmoon_airmass\u001b[0;34m(event_name, todays_date, target_coords, return_many)\u001b[0m\n\u001b[1;32m     94\u001b[0m utcoffset \u001b[38;5;241m=\u001b[39m \u001b[38;5;241m-\u001b[39m\u001b[38;5;241m3\u001b[39m\u001b[38;5;241m*\u001b[39mu\u001b[38;5;241m.\u001b[39mhour  \u001b[38;5;66;03m# Eastern Daylight Time\u001b[39;00m\n\u001b[1;32m     96\u001b[0m mytime \u001b[38;5;241m=\u001b[39m todays_date\n\u001b[0;32m---> 97\u001b[0m midnight \u001b[38;5;241m=\u001b[39m \u001b[43mTime\u001b[49m\u001b[43m(\u001b[49m\u001b[43mmytime\u001b[49m\u001b[43m)\u001b[49m \u001b[38;5;241m-\u001b[39m utcoffset \u001b[38;5;66;03m# - -> plus?\u001b[39;00m\n\u001b[1;32m    100\u001b[0m delta_midnight \u001b[38;5;241m=\u001b[39m np\u001b[38;5;241m.\u001b[39mlinspace(\u001b[38;5;241m-\u001b[39m\u001b[38;5;241m12\u001b[39m, \u001b[38;5;241m12\u001b[39m, \u001b[38;5;241m1000\u001b[39m)\u001b[38;5;241m*\u001b[39mu\u001b[38;5;241m.\u001b[39mhour\n\u001b[1;32m    101\u001b[0m times_tonight \u001b[38;5;241m=\u001b[39m midnight \u001b[38;5;241m+\u001b[39m delta_midnight\n",
      "File \u001b[0;32m/data/des80.a/data/imcmahon/micromamba/envs/mi38/lib/python3.9/site-packages/astropy/time/core.py:1853\u001b[0m, in \u001b[0;36mTime.__init__\u001b[0;34m(self, val, val2, format, scale, precision, in_subfmt, out_subfmt, location, copy)\u001b[0m\n\u001b[1;32m   1851\u001b[0m         \u001b[38;5;28mself\u001b[39m\u001b[38;5;241m.\u001b[39m_set_scale(scale)\n\u001b[1;32m   1852\u001b[0m \u001b[38;5;28;01melse\u001b[39;00m:\n\u001b[0;32m-> 1853\u001b[0m     \u001b[38;5;28;43mself\u001b[39;49m\u001b[38;5;241;43m.\u001b[39;49m\u001b[43m_init_from_vals\u001b[49m\u001b[43m(\u001b[49m\n\u001b[1;32m   1854\u001b[0m \u001b[43m        \u001b[49m\u001b[43mval\u001b[49m\u001b[43m,\u001b[49m\u001b[43m \u001b[49m\u001b[43mval2\u001b[49m\u001b[43m,\u001b[49m\u001b[43m \u001b[49m\u001b[38;5;28;43mformat\u001b[39;49m\u001b[43m,\u001b[49m\u001b[43m \u001b[49m\u001b[43mscale\u001b[49m\u001b[43m,\u001b[49m\u001b[43m \u001b[49m\u001b[43mcopy\u001b[49m\u001b[43m,\u001b[49m\u001b[43m \u001b[49m\u001b[43mprecision\u001b[49m\u001b[43m,\u001b[49m\u001b[43m \u001b[49m\u001b[43min_subfmt\u001b[49m\u001b[43m,\u001b[49m\u001b[43m \u001b[49m\u001b[43mout_subfmt\u001b[49m\n\u001b[1;32m   1855\u001b[0m \u001b[43m    \u001b[49m\u001b[43m)\u001b[49m\n\u001b[1;32m   1856\u001b[0m     \u001b[38;5;28mself\u001b[39m\u001b[38;5;241m.\u001b[39mSCALES \u001b[38;5;241m=\u001b[39m TIME_TYPES[\u001b[38;5;28mself\u001b[39m\u001b[38;5;241m.\u001b[39mscale]\n\u001b[1;32m   1858\u001b[0m \u001b[38;5;28;01mif\u001b[39;00m \u001b[38;5;28mself\u001b[39m\u001b[38;5;241m.\u001b[39mlocation \u001b[38;5;129;01mis\u001b[39;00m \u001b[38;5;129;01mnot\u001b[39;00m \u001b[38;5;28;01mNone\u001b[39;00m \u001b[38;5;129;01mand\u001b[39;00m (\n\u001b[1;32m   1859\u001b[0m     \u001b[38;5;28mself\u001b[39m\u001b[38;5;241m.\u001b[39mlocation\u001b[38;5;241m.\u001b[39msize \u001b[38;5;241m>\u001b[39m \u001b[38;5;241m1\u001b[39m \u001b[38;5;129;01mand\u001b[39;00m \u001b[38;5;28mself\u001b[39m\u001b[38;5;241m.\u001b[39mlocation\u001b[38;5;241m.\u001b[39mshape \u001b[38;5;241m!=\u001b[39m \u001b[38;5;28mself\u001b[39m\u001b[38;5;241m.\u001b[39mshape\n\u001b[1;32m   1860\u001b[0m ):\n",
      "File \u001b[0;32m/data/des80.a/data/imcmahon/micromamba/envs/mi38/lib/python3.9/site-packages/astropy/time/core.py:536\u001b[0m, in \u001b[0;36mTimeBase._init_from_vals\u001b[0;34m(self, val, val2, format, scale, copy, precision, in_subfmt, out_subfmt)\u001b[0m\n\u001b[1;32m    533\u001b[0m mask, val, val2 \u001b[38;5;241m=\u001b[39m _check_for_masked_and_fill(val, val2)\n\u001b[1;32m    535\u001b[0m \u001b[38;5;66;03m# Parse / convert input values into internal jd1, jd2 based on format\u001b[39;00m\n\u001b[0;32m--> 536\u001b[0m \u001b[38;5;28mself\u001b[39m\u001b[38;5;241m.\u001b[39m_time \u001b[38;5;241m=\u001b[39m \u001b[38;5;28;43mself\u001b[39;49m\u001b[38;5;241;43m.\u001b[39;49m\u001b[43m_get_time_fmt\u001b[49m\u001b[43m(\u001b[49m\n\u001b[1;32m    537\u001b[0m \u001b[43m    \u001b[49m\u001b[43mval\u001b[49m\u001b[43m,\u001b[49m\u001b[43m \u001b[49m\u001b[43mval2\u001b[49m\u001b[43m,\u001b[49m\u001b[43m \u001b[49m\u001b[38;5;28;43mformat\u001b[39;49m\u001b[43m,\u001b[49m\u001b[43m \u001b[49m\u001b[43mscale\u001b[49m\u001b[43m,\u001b[49m\u001b[43m \u001b[49m\u001b[43mprecision\u001b[49m\u001b[43m,\u001b[49m\u001b[43m \u001b[49m\u001b[43min_subfmt\u001b[49m\u001b[43m,\u001b[49m\u001b[43m \u001b[49m\u001b[43mout_subfmt\u001b[49m\n\u001b[1;32m    538\u001b[0m \u001b[43m\u001b[49m\u001b[43m)\u001b[49m\n\u001b[1;32m    539\u001b[0m \u001b[38;5;28mself\u001b[39m\u001b[38;5;241m.\u001b[39m_format \u001b[38;5;241m=\u001b[39m \u001b[38;5;28mself\u001b[39m\u001b[38;5;241m.\u001b[39m_time\u001b[38;5;241m.\u001b[39mname\n\u001b[1;32m    541\u001b[0m \u001b[38;5;66;03m# Hack from #9969 to allow passing the location value that has been\u001b[39;00m\n\u001b[1;32m    542\u001b[0m \u001b[38;5;66;03m# collected by the TimeAstropyTime format class up to the Time level.\u001b[39;00m\n\u001b[1;32m    543\u001b[0m \u001b[38;5;66;03m# TODO: find a nicer way.\u001b[39;00m\n",
      "File \u001b[0;32m/data/des80.a/data/imcmahon/micromamba/envs/mi38/lib/python3.9/site-packages/astropy/time/core.py:615\u001b[0m, in \u001b[0;36mTimeBase._get_time_fmt\u001b[0;34m(self, val, val2, format, scale, precision, in_subfmt, out_subfmt)\u001b[0m\n\u001b[1;32m    613\u001b[0m             problems[name] \u001b[38;5;241m=\u001b[39m err\n\u001b[1;32m    614\u001b[0m \u001b[38;5;28;01melse\u001b[39;00m:\n\u001b[0;32m--> 615\u001b[0m     \u001b[38;5;28;01mraise\u001b[39;00m \u001b[38;5;167;01mValueError\u001b[39;00m(\n\u001b[1;32m    616\u001b[0m         \u001b[38;5;124m\"\u001b[39m\u001b[38;5;124mInput values did not match any of the formats where the format \u001b[39m\u001b[38;5;124m\"\u001b[39m\n\u001b[1;32m    617\u001b[0m         \u001b[38;5;124mf\u001b[39m\u001b[38;5;124m\"\u001b[39m\u001b[38;5;124mkeyword is optional: \u001b[39m\u001b[38;5;132;01m{\u001b[39;00mproblems\u001b[38;5;132;01m}\u001b[39;00m\u001b[38;5;124m\"\u001b[39m\n\u001b[1;32m    618\u001b[0m     ) \u001b[38;5;28;01mfrom\u001b[39;00m \u001b[38;5;21;01mproblems\u001b[39;00m[formats[\u001b[38;5;241m0\u001b[39m][\u001b[38;5;241m0\u001b[39m]]\n",
      "\u001b[0;31mValueError\u001b[0m: Input values did not match any of the formats where the format keyword is optional: {'datetime': TypeError('Input values for datetime class must be datetime objects'), 'ymdhms': ValueError('input must be dict or table-like'), 'iso': ErfaError('ERFA function \"dtf2d\" yielded 1 of \"bad day\"'), 'isot': ErfaError('ERFA function \"dtf2d\" yielded 1 of \"bad day\"'), 'yday': ValueError('Time 2024-12-32 does not match yday format'), 'datetime64': TypeError('Input values for datetime64 class must be datetime64 objects'), 'fits': ErfaError('ERFA function \"dtf2d\" yielded 1 of \"bad day\"'), 'byear_str': ValueError('Time 2024-12-32 does not match byear_str format'), 'jyear_str': ValueError('Time 2024-12-32 does not match jyear_str format'), 'astropy_time': TypeError('Input values for astropy_time class must all be the same astropy Time type.')}"
     ]
    }
   ],
   "source": [
    "target_coords = [202.63, -37.08]\n",
    "base_path = \"/data/des70.a/data/desgw/O4/Main-Injector-O4b/utils/\"\n",
    "arr = np.arange(30)\n",
    "ID=\"S241110br\"\n",
    "fullPath = base_path+ID\n",
    "for day in arr:\n",
    "    date = \"2024-12-{}\".format(str(11+day))\n",
    "    plot = slp.moon_airmass(fullPath, date, target_coords)\n",
    "    # plot.show()"
   ]
  },
  {
   "cell_type": "code",
   "execution_count": 3,
   "metadata": {},
   "outputs": [
    {
     "data": {
      "text/plain": [
       "'/data/des70.a/data/desgw/O4/Main-Injector-O4b/utils/S240915b'"
      ]
     },
     "execution_count": 3,
     "metadata": {},
     "output_type": "execute_result"
    }
   ],
   "source": [
    "fullPath"
   ]
  },
  {
   "cell_type": "code",
   "execution_count": null,
   "metadata": {},
   "outputs": [],
   "source": [
    "target_coords = [165.72,11.64]\n",
    "arr = [2]\n",
    "for day in arr:\n",
    "    date = \"2024-05-05\"\n",
    "    moon_plot,moonaltazs,max_prob_coord_altazs = slp.moon_airmass(\"S240413p\", date, target_coords)"
   ]
  },
  {
   "cell_type": "code",
   "execution_count": 3,
   "metadata": {},
   "outputs": [],
   "source": [
    "area50, area90, maxprob_ra, maxprob_dec, maxprob_dist, maxprob_distsigma, levels, nside, prob = slp.make_alert_skymap(\"https://gracedb.ligo.org/api/superevents/S241110br/files/bayestar.fits.gz\")"
   ]
  },
  {
   "cell_type": "code",
   "execution_count": 4,
   "metadata": {},
   "outputs": [
    {
     "name": "stdout",
     "output_type": "stream",
     "text": [
      "202.63 -37.08\n"
     ]
    }
   ],
   "source": [
    "print(maxprob_ra, maxprob_dec)"
   ]
  },
  {
   "cell_type": "code",
   "execution_count": null,
   "metadata": {},
   "outputs": [],
   "source": []
  }
 ],
 "metadata": {
  "kernelspec": {
   "display_name": "Python 3 (ipykernel)",
   "language": "python",
   "name": "python3"
  },
  "language_info": {
   "codemirror_mode": {
    "name": "ipython",
    "version": 3
   },
   "file_extension": ".py",
   "mimetype": "text/x-python",
   "name": "python",
   "nbconvert_exporter": "python",
   "pygments_lexer": "ipython3",
   "version": "3.9.16"
  }
 },
 "nbformat": 4,
 "nbformat_minor": 2
}
