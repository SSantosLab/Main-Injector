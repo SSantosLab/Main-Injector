{
 "cells": [
  {
   "cell_type": "code",
   "execution_count": 3,
   "metadata": {},
   "outputs": [],
   "source": [
    "import handlers.short_latency_plots as slp\n",
    "import numpy as np\n",
    "import astropy.units as u"
   ]
  },
  {
   "cell_type": "code",
   "execution_count": 5,
   "metadata": {},
   "outputs": [
    {
     "name": "stdout",
     "output_type": "stream",
     "text": [
      "2024-04-15 ['2024-04-14 16:00:00.000' '2024-04-14 16:01:26.486'\n",
      " '2024-04-14 16:02:52.973' ... '2024-04-15 15:57:07.027'\n",
      " '2024-04-15 15:58:33.514' '2024-04-15 16:00:00.000']\n",
      "2024-04-16 ['2024-04-15 16:00:00.000' '2024-04-15 16:01:26.486'\n",
      " '2024-04-15 16:02:52.973' ... '2024-04-16 15:57:07.027'\n",
      " '2024-04-16 15:58:33.514' '2024-04-16 16:00:00.000']\n"
     ]
    }
   ],
   "source": [
    "target_coords = [160.99,6.577]\n",
    "arr = np.arange(15,17,step=1,dtype=int)\n",
    "for day in arr:\n",
    "    date = \"2024-04-\"+str(day)\n",
    "    moon_plot,moonaltazs,max_prob_coord_altazs = slp.moon_airmass(\"S240422ed\", date, target_coords)"
   ]
  },
  {
   "cell_type": "code",
   "execution_count": null,
   "metadata": {},
   "outputs": [],
   "source": [
    "from astropy.coordinates import EarthLocation\n",
    "\n",
    "from astropy.time import Time"
   ]
  },
  {
   "cell_type": "code",
   "execution_count": null,
   "metadata": {},
   "outputs": [],
   "source": [
    "apo = EarthLocation.of_site('Cerro Tololo Interamerican Observatory')"
   ]
  },
  {
   "cell_type": "code",
   "execution_count": null,
   "metadata": {},
   "outputs": [],
   "source": []
  }
 ],
 "metadata": {
  "kernelspec": {
   "display_name": "Python 3",
   "language": "python",
   "name": "python3"
  },
  "language_info": {
   "codemirror_mode": {
    "name": "ipython",
    "version": 3
   },
   "file_extension": ".py",
   "mimetype": "text/x-python",
   "name": "python",
   "nbconvert_exporter": "python",
   "pygments_lexer": "ipython3",
   "version": "3.9.16"
  }
 },
 "nbformat": 4,
 "nbformat_minor": 2
}
