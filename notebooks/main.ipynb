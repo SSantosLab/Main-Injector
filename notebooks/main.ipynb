{
 "cells": [
  {
   "cell_type": "code",
   "execution_count": 4,
   "metadata": {},
   "outputs": [
    {
     "name": "stdout",
     "output_type": "stream",
     "text": [
      "\n"
     ]
    }
   ],
   "source": [
    "!source ../SOURCEME\n",
    "!echo $ROOT_DIR"
   ]
  },
  {
   "cell_type": "code",
   "execution_count": 13,
   "metadata": {},
   "outputs": [],
   "source": [
    "import main_injector.cli.main\n",
    "import main_injector.cli.make_config\n",
    "import main_injector.cli.make_strategy\n",
    "\n",
    "\n",
    "import main_injector.events.checkevent\n",
    "import main_injector.events.event\n",
    "\n",
    "import main_injector.gwhelper.dark_siren_hexes\n",
    "import main_injector.gwhelper.gw_map_configure\n",
    "import main_injector.gwhelper.gwwide\n",
    "\n",
    "\n",
    "import main_injector.hex.desHexen\n",
    "import main_injector.hex.hexalate\n",
    "import main_injector.hex.observations\n",
    "\n",
    "\n",
    "import main_injector.events"
   ]
  },
  {
   "cell_type": "code",
   "execution_count": 11,
   "metadata": {},
   "outputs": [],
   "source": [
    "import main_injector"
   ]
  },
  {
   "cell_type": "code",
   "execution_count": 12,
   "metadata": {},
   "outputs": [
    {
     "data": {
      "text/plain": [
       "'main_injector'"
      ]
     },
     "execution_count": 12,
     "metadata": {},
     "output_type": "execute_result"
    }
   ],
   "source": [
    "main_injector.__package__"
   ]
  },
  {
   "cell_type": "code",
   "execution_count": 5,
   "metadata": {},
   "outputs": [
    {
     "ename": "ModuleNotFoundError",
     "evalue": "No module named 'hex'",
     "output_type": "error",
     "traceback": [
      "\u001b[0;31m---------------------------------------------------------------------------\u001b[0m",
      "\u001b[0;31mModuleNotFoundError\u001b[0m                       Traceback (most recent call last)",
      "Cell \u001b[0;32mIn [5], line 3\u001b[0m\n\u001b[1;32m      1\u001b[0m \u001b[38;5;28;01mfrom\u001b[39;00m \u001b[38;5;21;01mmain_injector\u001b[39;00m\u001b[38;5;21;01m.\u001b[39;00m\u001b[38;5;21;01mutils\u001b[39;00m \u001b[38;5;28;01mimport\u001b[39;00m send_texts_and_emails\n\u001b[1;32m      2\u001b[0m \u001b[38;5;28;01mfrom\u001b[39;00m \u001b[38;5;21;01mmain_injector\u001b[39;00m\u001b[38;5;21;01m.\u001b[39;00m\u001b[38;5;21;01mutils\u001b[39;00m \u001b[38;5;28;01mimport\u001b[39;00m distance\n\u001b[0;32m----> 3\u001b[0m \u001b[38;5;28;01mfrom\u001b[39;00m \u001b[38;5;21;01mmain_injector\u001b[39;00m\u001b[38;5;21;01m.\u001b[39;00m\u001b[38;5;21;01mutils\u001b[39;00m \u001b[38;5;28;01mimport\u001b[39;00m obsSlots\n\u001b[1;32m      4\u001b[0m \u001b[38;5;28;01mfrom\u001b[39;00m \u001b[38;5;21;01mmain_injector\u001b[39;00m\u001b[38;5;21;01m.\u001b[39;00m\u001b[38;5;21;01mhex\u001b[39;00m \u001b[38;5;28;01mimport\u001b[39;00m observations\n\u001b[1;32m      5\u001b[0m \u001b[38;5;28;01mfrom\u001b[39;00m \u001b[38;5;21;01mmain_injector\u001b[39;00m\u001b[38;5;21;01m.\u001b[39;00m\u001b[38;5;21;01mgwhelper\u001b[39;00m \u001b[38;5;28;01mimport\u001b[39;00m gw_map_configure\n",
      "File \u001b[0;32m~/phd/research_projects/Main-Injector/main_injector/utils/obsSlots.py:50\u001b[0m\n\u001b[1;32m     48\u001b[0m \u001b[38;5;28;01mimport\u001b[39;00m \u001b[38;5;21;01mos\u001b[39;00m\n\u001b[1;32m     49\u001b[0m \u001b[38;5;28;01mimport\u001b[39;00m \u001b[38;5;21;01mwarnings\u001b[39;00m\n\u001b[0;32m---> 50\u001b[0m \u001b[38;5;28;01mfrom\u001b[39;00m \u001b[38;5;21;01mhex\u001b[39;00m \u001b[38;5;28;01mimport\u001b[39;00m hexalate\n\u001b[1;32m     51\u001b[0m \u001b[38;5;28;01mfrom\u001b[39;00m \u001b[38;5;21;01mhex\u001b[39;00m \u001b[38;5;28;01mimport\u001b[39;00m observations \u001b[38;5;28;01mas\u001b[39;00m obs\n\u001b[1;32m     53\u001b[0m \u001b[38;5;28;01mdef\u001b[39;00m \u001b[38;5;21mslotCalculations\u001b[39m(mjd, exposure_lengths, tiling_list, overhead, hexesPerSlot \u001b[38;5;241m=\u001b[39m \u001b[38;5;241m6\u001b[39m, camera\u001b[38;5;241m=\u001b[39m\u001b[38;5;124m\"\u001b[39m\u001b[38;5;124mdecam\u001b[39m\u001b[38;5;124m\"\u001b[39m):\n",
      "\u001b[0;31mModuleNotFoundError\u001b[0m: No module named 'hex'"
     ]
    }
   ],
   "source": [
    "from main_injector.utils import send_texts_and_emails\n",
    "from main_injector.utils import distance\n",
    "from main_injector.utils import obsSlots\n",
    "from main_injector.hex import observations\n",
    "from main_injector.gwhelper import gw_map_configure\n",
    "from main_injector.trigger import trigger_pages as tp"
   ]
  },
  {
   "cell_type": "code",
   "execution_count": null,
   "metadata": {},
   "outputs": [],
   "source": []
  }
 ],
 "metadata": {
  "kernelspec": {
   "display_name": "Python 3.8.13 ('main_injector')",
   "language": "python",
   "name": "python3"
  },
  "language_info": {
   "codemirror_mode": {
    "name": "ipython",
    "version": 3
   },
   "file_extension": ".py",
   "mimetype": "text/x-python",
   "name": "python",
   "nbconvert_exporter": "python",
   "pygments_lexer": "ipython3",
   "version": "3.8.13"
  },
  "vscode": {
   "interpreter": {
    "hash": "e7ca266db6da52ddcb551a61005c7cfb5f9d330edc5ee17a6b9b021e3034f0d5"
   }
  }
 },
 "nbformat": 4,
 "nbformat_minor": 2
}
